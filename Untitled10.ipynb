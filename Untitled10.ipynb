{
  "nbformat": 4,
  "nbformat_minor": 0,
  "metadata": {
    "colab": {
      "provenance": [],
      "collapsed_sections": [],
      "authorship_tag": "ABX9TyMYkWMlPwbzFWKt8Yy+HzdI",
      "include_colab_link": true
    },
    "kernelspec": {
      "name": "python3",
      "display_name": "Python 3"
    },
    "language_info": {
      "name": "python"
    }
  },
  "cells": [
    {
      "cell_type": "markdown",
      "metadata": {
        "id": "view-in-github",
        "colab_type": "text"
      },
      "source": [
        "<a href=\"https://colab.research.google.com/github/RumeysaBalabey/VeriBilimi/blob/main/Untitled10.ipynb\" target=\"_parent\"><img src=\"https://colab.research.google.com/assets/colab-badge.svg\" alt=\"Open In Colab\"/></a>"
      ]
    },
    {
      "cell_type": "code",
      "execution_count": 34,
      "metadata": {
        "colab": {
          "base_uri": "https://localhost:8080/",
          "height": 424
        },
        "id": "emHe-o6yqG4F",
        "outputId": "1b8abb17-78c4-4d31-ce50-673fcaef87e6"
      },
      "outputs": [
        {
          "output_type": "execute_result",
          "data": {
            "text/plain": [
              "      SEX  EDUC  MARISTAT  INDEPEND  RESIDENC  NACCFAM  ANYMEDS  SMOKYRS  \\\n",
              "0       2    18         1         1         1        1        1        0   \n",
              "1       1    11         1         1         1        1        1        0   \n",
              "2       2    16         1         1         1        1        1       10   \n",
              "3       1    14         1         1         1        0        1        0   \n",
              "4       1    16         1         1         2        0        1       50   \n",
              "...   ...   ...       ...       ...       ...      ...      ...      ...   \n",
              "1349    1    20         1         1         1        1        1        0   \n",
              "1350    1    16         1         2         1        0        1        0   \n",
              "1351    2    14         2         1         1        1        1        0   \n",
              "1352    2    20         3         1         1        1        1       25   \n",
              "1353    2    14         1         1         1        1        1       10   \n",
              "\n",
              "      NACCTBI  DIABETES  ...   RSUPFR  RSUPFRM  RSUPPAR  RSUPPARM  RSUPTEM  \\\n",
              "0           0         0  ...  27.9038   2.2157  10.3481    1.7014  13.4250   \n",
              "1           0         0  ...  29.0600   2.6900   9.2500    1.6300  14.8800   \n",
              "2           0         1  ...  33.0000   2.5400  13.6900    1.5600  16.2300   \n",
              "3           0         1  ...  31.6800   2.4100   9.6400    1.4500  15.1100   \n",
              "4           0         0  ...  28.0631   1.9501   9.1125    1.0427  13.3763   \n",
              "...       ...       ...  ...      ...      ...      ...       ...      ...   \n",
              "1349        0         0  ...  24.6892   2.6528  10.5460    2.1712  14.1128   \n",
              "1350        0         0  ...  24.7908   2.0993  10.4094    1.4855  10.7880   \n",
              "1351        0         0  ...  23.8500   2.1200  12.3900    1.5300  12.6600   \n",
              "1352        0         0  ...  31.3500   2.4300  10.8200    1.7000  13.7700   \n",
              "1353        0         0  ...  21.9900   2.4100   9.8900    1.7600  13.9600   \n",
              "\n",
              "      RSUPTEMM  RSUPMAR  RSUPMARM  RTRTEM  RTRTEMM  \n",
              "0       1.7419   9.8700    1.6792  0.8906   1.1947  \n",
              "1       2.3000   7.2700    1.8900  1.3800   2.0300  \n",
              "2       2.0700  10.1100    1.8400  1.0100   1.5000  \n",
              "3       1.6400  10.3900    1.8300  0.7400   1.1000  \n",
              "4       1.6270   7.5844    1.4595  0.6638   0.8527  \n",
              "...        ...      ...       ...     ...      ...  \n",
              "1349    2.8833   9.3176    2.3582  0.6735   1.0270  \n",
              "1350    1.9027  10.2034    2.0484  0.7267   0.7946  \n",
              "1351    1.9900   9.4800    1.7400  1.1800   1.5900  \n",
              "1352    2.1000  11.1200    2.1400  1.3100   1.5200  \n",
              "1353    2.2000   9.9600    1.8600  0.8300   1.6500  \n",
              "\n",
              "[1354 rows x 186 columns]"
            ],
            "text/html": [
              "\n",
              "  <div id=\"df-dad6cc23-4b55-431f-9add-85fb28362667\">\n",
              "    <div class=\"colab-df-container\">\n",
              "      <div>\n",
              "<style scoped>\n",
              "    .dataframe tbody tr th:only-of-type {\n",
              "        vertical-align: middle;\n",
              "    }\n",
              "\n",
              "    .dataframe tbody tr th {\n",
              "        vertical-align: top;\n",
              "    }\n",
              "\n",
              "    .dataframe thead th {\n",
              "        text-align: right;\n",
              "    }\n",
              "</style>\n",
              "<table border=\"1\" class=\"dataframe\">\n",
              "  <thead>\n",
              "    <tr style=\"text-align: right;\">\n",
              "      <th></th>\n",
              "      <th>SEX</th>\n",
              "      <th>EDUC</th>\n",
              "      <th>MARISTAT</th>\n",
              "      <th>INDEPEND</th>\n",
              "      <th>RESIDENC</th>\n",
              "      <th>NACCFAM</th>\n",
              "      <th>ANYMEDS</th>\n",
              "      <th>SMOKYRS</th>\n",
              "      <th>NACCTBI</th>\n",
              "      <th>DIABETES</th>\n",
              "      <th>...</th>\n",
              "      <th>RSUPFR</th>\n",
              "      <th>RSUPFRM</th>\n",
              "      <th>RSUPPAR</th>\n",
              "      <th>RSUPPARM</th>\n",
              "      <th>RSUPTEM</th>\n",
              "      <th>RSUPTEMM</th>\n",
              "      <th>RSUPMAR</th>\n",
              "      <th>RSUPMARM</th>\n",
              "      <th>RTRTEM</th>\n",
              "      <th>RTRTEMM</th>\n",
              "    </tr>\n",
              "  </thead>\n",
              "  <tbody>\n",
              "    <tr>\n",
              "      <th>0</th>\n",
              "      <td>2</td>\n",
              "      <td>18</td>\n",
              "      <td>1</td>\n",
              "      <td>1</td>\n",
              "      <td>1</td>\n",
              "      <td>1</td>\n",
              "      <td>1</td>\n",
              "      <td>0</td>\n",
              "      <td>0</td>\n",
              "      <td>0</td>\n",
              "      <td>...</td>\n",
              "      <td>27.9038</td>\n",
              "      <td>2.2157</td>\n",
              "      <td>10.3481</td>\n",
              "      <td>1.7014</td>\n",
              "      <td>13.4250</td>\n",
              "      <td>1.7419</td>\n",
              "      <td>9.8700</td>\n",
              "      <td>1.6792</td>\n",
              "      <td>0.8906</td>\n",
              "      <td>1.1947</td>\n",
              "    </tr>\n",
              "    <tr>\n",
              "      <th>1</th>\n",
              "      <td>1</td>\n",
              "      <td>11</td>\n",
              "      <td>1</td>\n",
              "      <td>1</td>\n",
              "      <td>1</td>\n",
              "      <td>1</td>\n",
              "      <td>1</td>\n",
              "      <td>0</td>\n",
              "      <td>0</td>\n",
              "      <td>0</td>\n",
              "      <td>...</td>\n",
              "      <td>29.0600</td>\n",
              "      <td>2.6900</td>\n",
              "      <td>9.2500</td>\n",
              "      <td>1.6300</td>\n",
              "      <td>14.8800</td>\n",
              "      <td>2.3000</td>\n",
              "      <td>7.2700</td>\n",
              "      <td>1.8900</td>\n",
              "      <td>1.3800</td>\n",
              "      <td>2.0300</td>\n",
              "    </tr>\n",
              "    <tr>\n",
              "      <th>2</th>\n",
              "      <td>2</td>\n",
              "      <td>16</td>\n",
              "      <td>1</td>\n",
              "      <td>1</td>\n",
              "      <td>1</td>\n",
              "      <td>1</td>\n",
              "      <td>1</td>\n",
              "      <td>10</td>\n",
              "      <td>0</td>\n",
              "      <td>1</td>\n",
              "      <td>...</td>\n",
              "      <td>33.0000</td>\n",
              "      <td>2.5400</td>\n",
              "      <td>13.6900</td>\n",
              "      <td>1.5600</td>\n",
              "      <td>16.2300</td>\n",
              "      <td>2.0700</td>\n",
              "      <td>10.1100</td>\n",
              "      <td>1.8400</td>\n",
              "      <td>1.0100</td>\n",
              "      <td>1.5000</td>\n",
              "    </tr>\n",
              "    <tr>\n",
              "      <th>3</th>\n",
              "      <td>1</td>\n",
              "      <td>14</td>\n",
              "      <td>1</td>\n",
              "      <td>1</td>\n",
              "      <td>1</td>\n",
              "      <td>0</td>\n",
              "      <td>1</td>\n",
              "      <td>0</td>\n",
              "      <td>0</td>\n",
              "      <td>1</td>\n",
              "      <td>...</td>\n",
              "      <td>31.6800</td>\n",
              "      <td>2.4100</td>\n",
              "      <td>9.6400</td>\n",
              "      <td>1.4500</td>\n",
              "      <td>15.1100</td>\n",
              "      <td>1.6400</td>\n",
              "      <td>10.3900</td>\n",
              "      <td>1.8300</td>\n",
              "      <td>0.7400</td>\n",
              "      <td>1.1000</td>\n",
              "    </tr>\n",
              "    <tr>\n",
              "      <th>4</th>\n",
              "      <td>1</td>\n",
              "      <td>16</td>\n",
              "      <td>1</td>\n",
              "      <td>1</td>\n",
              "      <td>2</td>\n",
              "      <td>0</td>\n",
              "      <td>1</td>\n",
              "      <td>50</td>\n",
              "      <td>0</td>\n",
              "      <td>0</td>\n",
              "      <td>...</td>\n",
              "      <td>28.0631</td>\n",
              "      <td>1.9501</td>\n",
              "      <td>9.1125</td>\n",
              "      <td>1.0427</td>\n",
              "      <td>13.3763</td>\n",
              "      <td>1.6270</td>\n",
              "      <td>7.5844</td>\n",
              "      <td>1.4595</td>\n",
              "      <td>0.6638</td>\n",
              "      <td>0.8527</td>\n",
              "    </tr>\n",
              "    <tr>\n",
              "      <th>...</th>\n",
              "      <td>...</td>\n",
              "      <td>...</td>\n",
              "      <td>...</td>\n",
              "      <td>...</td>\n",
              "      <td>...</td>\n",
              "      <td>...</td>\n",
              "      <td>...</td>\n",
              "      <td>...</td>\n",
              "      <td>...</td>\n",
              "      <td>...</td>\n",
              "      <td>...</td>\n",
              "      <td>...</td>\n",
              "      <td>...</td>\n",
              "      <td>...</td>\n",
              "      <td>...</td>\n",
              "      <td>...</td>\n",
              "      <td>...</td>\n",
              "      <td>...</td>\n",
              "      <td>...</td>\n",
              "      <td>...</td>\n",
              "      <td>...</td>\n",
              "    </tr>\n",
              "    <tr>\n",
              "      <th>1349</th>\n",
              "      <td>1</td>\n",
              "      <td>20</td>\n",
              "      <td>1</td>\n",
              "      <td>1</td>\n",
              "      <td>1</td>\n",
              "      <td>1</td>\n",
              "      <td>1</td>\n",
              "      <td>0</td>\n",
              "      <td>0</td>\n",
              "      <td>0</td>\n",
              "      <td>...</td>\n",
              "      <td>24.6892</td>\n",
              "      <td>2.6528</td>\n",
              "      <td>10.5460</td>\n",
              "      <td>2.1712</td>\n",
              "      <td>14.1128</td>\n",
              "      <td>2.8833</td>\n",
              "      <td>9.3176</td>\n",
              "      <td>2.3582</td>\n",
              "      <td>0.6735</td>\n",
              "      <td>1.0270</td>\n",
              "    </tr>\n",
              "    <tr>\n",
              "      <th>1350</th>\n",
              "      <td>1</td>\n",
              "      <td>16</td>\n",
              "      <td>1</td>\n",
              "      <td>2</td>\n",
              "      <td>1</td>\n",
              "      <td>0</td>\n",
              "      <td>1</td>\n",
              "      <td>0</td>\n",
              "      <td>0</td>\n",
              "      <td>0</td>\n",
              "      <td>...</td>\n",
              "      <td>24.7908</td>\n",
              "      <td>2.0993</td>\n",
              "      <td>10.4094</td>\n",
              "      <td>1.4855</td>\n",
              "      <td>10.7880</td>\n",
              "      <td>1.9027</td>\n",
              "      <td>10.2034</td>\n",
              "      <td>2.0484</td>\n",
              "      <td>0.7267</td>\n",
              "      <td>0.7946</td>\n",
              "    </tr>\n",
              "    <tr>\n",
              "      <th>1351</th>\n",
              "      <td>2</td>\n",
              "      <td>14</td>\n",
              "      <td>2</td>\n",
              "      <td>1</td>\n",
              "      <td>1</td>\n",
              "      <td>1</td>\n",
              "      <td>1</td>\n",
              "      <td>0</td>\n",
              "      <td>0</td>\n",
              "      <td>0</td>\n",
              "      <td>...</td>\n",
              "      <td>23.8500</td>\n",
              "      <td>2.1200</td>\n",
              "      <td>12.3900</td>\n",
              "      <td>1.5300</td>\n",
              "      <td>12.6600</td>\n",
              "      <td>1.9900</td>\n",
              "      <td>9.4800</td>\n",
              "      <td>1.7400</td>\n",
              "      <td>1.1800</td>\n",
              "      <td>1.5900</td>\n",
              "    </tr>\n",
              "    <tr>\n",
              "      <th>1352</th>\n",
              "      <td>2</td>\n",
              "      <td>20</td>\n",
              "      <td>3</td>\n",
              "      <td>1</td>\n",
              "      <td>1</td>\n",
              "      <td>1</td>\n",
              "      <td>1</td>\n",
              "      <td>25</td>\n",
              "      <td>0</td>\n",
              "      <td>0</td>\n",
              "      <td>...</td>\n",
              "      <td>31.3500</td>\n",
              "      <td>2.4300</td>\n",
              "      <td>10.8200</td>\n",
              "      <td>1.7000</td>\n",
              "      <td>13.7700</td>\n",
              "      <td>2.1000</td>\n",
              "      <td>11.1200</td>\n",
              "      <td>2.1400</td>\n",
              "      <td>1.3100</td>\n",
              "      <td>1.5200</td>\n",
              "    </tr>\n",
              "    <tr>\n",
              "      <th>1353</th>\n",
              "      <td>2</td>\n",
              "      <td>14</td>\n",
              "      <td>1</td>\n",
              "      <td>1</td>\n",
              "      <td>1</td>\n",
              "      <td>1</td>\n",
              "      <td>1</td>\n",
              "      <td>10</td>\n",
              "      <td>0</td>\n",
              "      <td>0</td>\n",
              "      <td>...</td>\n",
              "      <td>21.9900</td>\n",
              "      <td>2.4100</td>\n",
              "      <td>9.8900</td>\n",
              "      <td>1.7600</td>\n",
              "      <td>13.9600</td>\n",
              "      <td>2.2000</td>\n",
              "      <td>9.9600</td>\n",
              "      <td>1.8600</td>\n",
              "      <td>0.8300</td>\n",
              "      <td>1.6500</td>\n",
              "    </tr>\n",
              "  </tbody>\n",
              "</table>\n",
              "<p>1354 rows × 186 columns</p>\n",
              "</div>\n",
              "      <button class=\"colab-df-convert\" onclick=\"convertToInteractive('df-dad6cc23-4b55-431f-9add-85fb28362667')\"\n",
              "              title=\"Convert this dataframe to an interactive table.\"\n",
              "              style=\"display:none;\">\n",
              "        \n",
              "  <svg xmlns=\"http://www.w3.org/2000/svg\" height=\"24px\"viewBox=\"0 0 24 24\"\n",
              "       width=\"24px\">\n",
              "    <path d=\"M0 0h24v24H0V0z\" fill=\"none\"/>\n",
              "    <path d=\"M18.56 5.44l.94 2.06.94-2.06 2.06-.94-2.06-.94-.94-2.06-.94 2.06-2.06.94zm-11 1L8.5 8.5l.94-2.06 2.06-.94-2.06-.94L8.5 2.5l-.94 2.06-2.06.94zm10 10l.94 2.06.94-2.06 2.06-.94-2.06-.94-.94-2.06-.94 2.06-2.06.94z\"/><path d=\"M17.41 7.96l-1.37-1.37c-.4-.4-.92-.59-1.43-.59-.52 0-1.04.2-1.43.59L10.3 9.45l-7.72 7.72c-.78.78-.78 2.05 0 2.83L4 21.41c.39.39.9.59 1.41.59.51 0 1.02-.2 1.41-.59l7.78-7.78 2.81-2.81c.8-.78.8-2.07 0-2.86zM5.41 20L4 18.59l7.72-7.72 1.47 1.35L5.41 20z\"/>\n",
              "  </svg>\n",
              "      </button>\n",
              "      \n",
              "  <style>\n",
              "    .colab-df-container {\n",
              "      display:flex;\n",
              "      flex-wrap:wrap;\n",
              "      gap: 12px;\n",
              "    }\n",
              "\n",
              "    .colab-df-convert {\n",
              "      background-color: #E8F0FE;\n",
              "      border: none;\n",
              "      border-radius: 50%;\n",
              "      cursor: pointer;\n",
              "      display: none;\n",
              "      fill: #1967D2;\n",
              "      height: 32px;\n",
              "      padding: 0 0 0 0;\n",
              "      width: 32px;\n",
              "    }\n",
              "\n",
              "    .colab-df-convert:hover {\n",
              "      background-color: #E2EBFA;\n",
              "      box-shadow: 0px 1px 2px rgba(60, 64, 67, 0.3), 0px 1px 3px 1px rgba(60, 64, 67, 0.15);\n",
              "      fill: #174EA6;\n",
              "    }\n",
              "\n",
              "    [theme=dark] .colab-df-convert {\n",
              "      background-color: #3B4455;\n",
              "      fill: #D2E3FC;\n",
              "    }\n",
              "\n",
              "    [theme=dark] .colab-df-convert:hover {\n",
              "      background-color: #434B5C;\n",
              "      box-shadow: 0px 1px 3px 1px rgba(0, 0, 0, 0.15);\n",
              "      filter: drop-shadow(0px 1px 2px rgba(0, 0, 0, 0.3));\n",
              "      fill: #FFFFFF;\n",
              "    }\n",
              "  </style>\n",
              "\n",
              "      <script>\n",
              "        const buttonEl =\n",
              "          document.querySelector('#df-dad6cc23-4b55-431f-9add-85fb28362667 button.colab-df-convert');\n",
              "        buttonEl.style.display =\n",
              "          google.colab.kernel.accessAllowed ? 'block' : 'none';\n",
              "\n",
              "        async function convertToInteractive(key) {\n",
              "          const element = document.querySelector('#df-dad6cc23-4b55-431f-9add-85fb28362667');\n",
              "          const dataTable =\n",
              "            await google.colab.kernel.invokeFunction('convertToInteractive',\n",
              "                                                     [key], {});\n",
              "          if (!dataTable) return;\n",
              "\n",
              "          const docLinkHtml = 'Like what you see? Visit the ' +\n",
              "            '<a target=\"_blank\" href=https://colab.research.google.com/notebooks/data_table.ipynb>data table notebook</a>'\n",
              "            + ' to learn more about interactive tables.';\n",
              "          element.innerHTML = '';\n",
              "          dataTable['output_type'] = 'display_data';\n",
              "          await google.colab.output.renderOutput(dataTable, element);\n",
              "          const docLink = document.createElement('div');\n",
              "          docLink.innerHTML = docLinkHtml;\n",
              "          element.appendChild(docLink);\n",
              "        }\n",
              "      </script>\n",
              "    </div>\n",
              "  </div>\n",
              "  "
            ]
          },
          "metadata": {},
          "execution_count": 34
        }
      ],
      "source": [
        "import pandas as pd\n",
        "import numpy as np\n",
        "import matplotlib.pyplot as plt\n",
        "from sklearn.model_selection import train_test_split\n",
        "from sklearn.neighbors import KNeighborsClassifier\n",
        "\n",
        "\n",
        "data = pd.read_excel(\"Temporary_data3_Left_Right_Copy (2).xlsx\")\n",
        "data"
      ]
    },
    {
      "cell_type": "markdown",
      "source": [
        "TASK-6A: Please use the latest version of the AD dataset to provide the following outputs:\n",
        "\n",
        "y : CDRGLOB\n",
        "X : all columns except for the label\n",
        "Train-test split: .80-.20 (please use the stratify parameter)\n",
        "Cross-validation both with k=5 and k=10\n",
        "\n",
        "Please compare and discuss the outputs obtained from the cross validation step by k=5 and k=10.\n"
      ],
      "metadata": {
        "id": "wUUX2GtqvXXp"
      }
    },
    {
      "cell_type": "code",
      "source": [
        "Y=data['CDRGLOB']\n",
        "X=data.drop(['CDRGLOB'], axis=1)\n",
        "model = KNeighborsClassifier(n_neighbors=1)\n",
        "X1, X2, Y1, Y2 = train_test_split(X, Y, random_state=0,train_size=0.8)"
      ],
      "metadata": {
        "id": "-cpa_dp2qa2c"
      },
      "execution_count": 35,
      "outputs": []
    },
    {
      "cell_type": "code",
      "source": [
        "y2_model = model.fit(X1, Y1).predict(X2)\n",
        "y1_model = model.fit(X2, Y2).predict(X1)\n",
        "accuracy_score(Y1, y1_model), accuracy_score(Y2, y2_model)"
      ],
      "metadata": {
        "colab": {
          "base_uri": "https://localhost:8080/"
        },
        "id": "le4c8S-CszfU",
        "outputId": "ec58c9ba-4e7d-4094-c0d4-baa3ac364007"
      },
      "execution_count": 36,
      "outputs": [
        {
          "output_type": "execute_result",
          "data": {
            "text/plain": [
              "(0.4792243767313019, 0.4833948339483395)"
            ]
          },
          "metadata": {},
          "execution_count": 36
        }
      ]
    },
    {
      "cell_type": "code",
      "source": [
        "model.fit(X, Y)\n",
        "y_model = model.predict(X)\n",
        "from sklearn.metrics import accuracy_score\n",
        "accuracy_score(Y, y_model)"
      ],
      "metadata": {
        "colab": {
          "base_uri": "https://localhost:8080/"
        },
        "id": "Cr8E5ZaCrmnA",
        "outputId": "0494b396-24c8-43dc-fa1c-30f8e05f4899"
      },
      "execution_count": 37,
      "outputs": [
        {
          "output_type": "execute_result",
          "data": {
            "text/plain": [
              "1.0"
            ]
          },
          "metadata": {},
          "execution_count": 37
        }
      ]
    },
    {
      "cell_type": "code",
      "source": [
        "from sklearn.model_selection import cross_val_score\n",
        "cross_val_score(model, X, Y, cv=5)\n"
      ],
      "metadata": {
        "colab": {
          "base_uri": "https://localhost:8080/"
        },
        "id": "XSVq4E_1tJBT",
        "outputId": "f2fd9e3a-3aa4-4ea3-bd7c-6d422e343042"
      },
      "execution_count": 38,
      "outputs": [
        {
          "output_type": "execute_result",
          "data": {
            "text/plain": [
              "array([0.43173432, 0.45756458, 0.56457565, 0.46125461, 0.4037037 ])"
            ]
          },
          "metadata": {},
          "execution_count": 38
        }
      ]
    },
    {
      "cell_type": "code",
      "source": [
        "from sklearn.model_selection import cross_val_score\n",
        "cross_val_score(model, X, Y, cv=10)\n"
      ],
      "metadata": {
        "colab": {
          "base_uri": "https://localhost:8080/"
        },
        "id": "k4gxVVgsuPQO",
        "outputId": "9ffd7cfb-c10d-4555-a819-ce0ff2f6816e"
      },
      "execution_count": 39,
      "outputs": [
        {
          "output_type": "execute_result",
          "data": {
            "text/plain": [
              "array([0.42647059, 0.44117647, 0.36764706, 0.53676471, 0.59259259,\n",
              "       0.59259259, 0.52592593, 0.38518519, 0.37037037, 0.5037037 ])"
            ]
          },
          "metadata": {},
          "execution_count": 39
        }
      ]
    },
    {
      "cell_type": "code",
      "source": [
        "print(\"Cross-Validation's mean when k=5:\", cross_val_score(model, X, Y, cv=5).mean())\n",
        "print(\"Cross-Validation's mean when k=10:\", cross_val_score(model, X, Y, cv=10).mean())"
      ],
      "metadata": {
        "colab": {
          "base_uri": "https://localhost:8080/"
        },
        "id": "JGy8KSQeHtkH",
        "outputId": "2bc15d3d-6d24-4a4c-a7d1-7cb2ba17332b"
      },
      "execution_count": 40,
      "outputs": [
        {
          "output_type": "stream",
          "name": "stdout",
          "text": [
            "Cross-Validation's mean when k=5: 0.4637665709990433\n",
            "Cross-Validation's mean when k=10: 0.4742429193899782\n"
          ]
        }
      ]
    },
    {
      "cell_type": "markdown",
      "source": [
        "TASK-6B: Please perform a grid search run with the use of a ML algorithm (and its 3 parameters at least with 5 different values for each) you select as opposed to the Gaussian Naive Bayes algorithm. Then compare the outputs with respect to the accuracy values. \n"
      ],
      "metadata": {
        "id": "CB8kWfRAvYq5"
      }
    },
    {
      "cell_type": "code",
      "source": [
        "from sklearn.ensemble import RandomForestClassifier\n",
        "y = data['CDRGLOB']\n",
        "x = data.drop(['CDRGLOB'], axis=1)\n",
        "\n",
        "xtrrf, xterf, ytrrf, yterf = train_test_split(x, y, test_size=0.6)\n",
        "\n",
        "rfc=RandomForestClassifier(n_estimators=100)\n",
        "\n",
        "rfc.fit(xtrrf,ytrrf)\n",
        "\n",
        "ypredrf=rfc.predict(xterf)\n",
        "\n",
        "print(\"Accuracy of RandomForest:\", accuracy_score(yterf, ypredrf))"
      ],
      "metadata": {
        "id": "VTDX62f5e1Vj",
        "outputId": "9017cca3-b5f6-409d-9b9e-bbcc23cddf00",
        "colab": {
          "base_uri": "https://localhost:8080/"
        }
      },
      "execution_count": 41,
      "outputs": [
        {
          "output_type": "stream",
          "name": "stdout",
          "text": [
            "Accuracy of RandomForest: 0.6728167281672817\n"
          ]
        }
      ]
    },
    {
      "cell_type": "markdown",
      "source": [
        "TASK-6C: Please provide a visualization of the best algorithm with respect to the two of the dimensions in the dataset and please annotate the labels. For instance, x-axis might be RPARCORT and y-axis might be LTEMPCOR."
      ],
      "metadata": {
        "id": "pHKFaNd-hiAC"
      }
    },
    {
      "cell_type": "code",
      "source": [
        "import matplotlib.pyplot as plt\n",
        "plt.figure(figsize = (18, 5))\n",
        "plt.subplot(1, 2, 1)\n",
        "plt.scatter(xterf[\"RPARCORT\"], xterf[\"LTEMPCOR\"],c = yterf)\n",
        "plt.colorbar(ticks = [0,1,2,3])\n",
        "plt.ylabel(\"LTEMPCOR\")\n",
        "plt.xlabel(\"RPARCORT\")"
      ],
      "metadata": {
        "colab": {
          "base_uri": "https://localhost:8080/",
          "height": 355
        },
        "id": "zCAy0TaHg1bl",
        "outputId": "7bb6e8e7-137e-4fce-bf4b-ac283d43e00c"
      },
      "execution_count": 42,
      "outputs": [
        {
          "output_type": "execute_result",
          "data": {
            "text/plain": [
              "Text(0.5, 0, 'RPARCORT')"
            ]
          },
          "metadata": {},
          "execution_count": 42
        },
        {
          "output_type": "display_data",
          "data": {
            "text/plain": [
              "<Figure size 1296x360 with 2 Axes>"
            ],
            "image/png": "[encoded data removed]"
          },
          "metadata": {
            "needs_background": "light"
          }
        }
      ]
    },
    {
      "cell_type": "code",
      "source": [
        "plt.scatter(xterf[\"RPARCORT\"], xterf[\"LTEMPCOR\"])\n",
        "plt.colorbar(ticks = [0,1,2,3])\n",
        "plt.ylabel(\"LTEMPCOR\")\n",
        "plt.xlabel(\"RPARCORT\")\n",
        "plt.show();"
      ],
      "metadata": {
        "colab": {
          "base_uri": "https://localhost:8080/",
          "height": 283
        },
        "id": "GgLYmziPh3IH",
        "outputId": "a1777384-35cb-4222-e84c-2da75678f3c2"
      },
      "execution_count": 43,
      "outputs": [
        {
          "output_type": "display_data",
          "data": {
            "text/plain": [
              "<Figure size 432x288 with 2 Axes>"
            ],
            "image/png": "[encoded data removed]"
          },
          "metadata": {
            "needs_background": "light"
          }
        }
      ]
    },
    {
      "cell_type": "markdown",
      "source": [
        "6D/6E"
      ],
      "metadata": {
        "id": "tvOc5m9mjRn5"
      }
    }
  ]
}